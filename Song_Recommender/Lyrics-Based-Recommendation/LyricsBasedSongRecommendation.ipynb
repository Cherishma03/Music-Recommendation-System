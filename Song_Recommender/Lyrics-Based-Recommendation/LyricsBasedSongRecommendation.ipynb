{
 "cells": [
  {
   "cell_type": "markdown",
   "source": [
    "# Music recommender system\n",
    "\n",
    "One of the most used machine learning algorithms is recommendation systems. A **recommender** (or recommendation) **system** (or engine) is a filtering system which aim is to predict a rating or preference a user would give to an item, eg. a film, a product, a song, etc.\n",
    "\n",
    "Which type of recommender can we have?\n",
    " - the recommendation using in this model is lyrics based recommendation.\n",
    "\n",
    "> Content-based filters predicts what a user likes based on what that particular user has liked in the past. On the other hand, collaborative-based filters predict what a user like based on what other users, that are similar to that particular user, have liked."
   ],
   "metadata": {
    "collapsed": false
   }
  },
  {
   "cell_type": "markdown",
   "source": [
    "### Importing required libraries"
   ],
   "metadata": {
    "collapsed": false
   }
  },
  {
   "cell_type": "code",
   "execution_count": 39,
   "outputs": [
    {
     "name": "stderr",
     "output_type": "stream",
     "text": [
      "[nltk_data] Downloading package stopwords to C:\\Users\\Ayyappa\n",
      "[nltk_data]     Swamy\\AppData\\Roaming\\nltk_data...\n",
      "[nltk_data]   Package stopwords is already up-to-date!\n"
     ]
    },
    {
     "data": {
      "text/plain": "True"
     },
     "execution_count": 39,
     "metadata": {},
     "output_type": "execute_result"
    }
   ],
   "source": [
    "import ast\n",
    "import nltk\n",
    "from nltk.corpus import stopwords\n",
    "from collections import Counter\n",
    "from random import randint\n",
    "import nltk\n",
    "nltk.download('stopwords')"
   ],
   "metadata": {
    "collapsed": false
   }
  },
  {
   "cell_type": "markdown",
   "source": [
    "### _function to create tuple cotaining only lyrics and corresponding sentiment_"
   ],
   "metadata": {
    "collapsed": false
   }
  },
  {
   "cell_type": "code",
   "execution_count": 40,
   "outputs": [],
   "source": [
    "def create_tuples( fileName ):\n",
    "\tfile_open = open(fileName)\n",
    "\tfile_read = file_open.read()\n",
    "\tcollection = ast.literal_eval(file_read)\n",
    "\tresult = []\n",
    "\tfor i in collection:\n",
    "\t\trecord = (i[\"lyric\"], i[\"sentiment\"])\n",
    "\t\tresult.append(record)\n",
    "\treturn result"
   ],
   "metadata": {
    "collapsed": false
   }
  },
  {
   "cell_type": "markdown",
   "source": [
    "### function to remove stopwords from training lyrics"
   ],
   "metadata": {
    "collapsed": false
   }
  },
  {
   "cell_type": "code",
   "execution_count": 41,
   "outputs": [],
   "source": [
    "def stop_words_removal(lyrics):\n",
    "\tarray = []\n",
    "\tfor i in lyrics:\n",
    "\t\tsentiment = i[1]\n",
    "\t\tstop = set(stopwords.words('english'))\n",
    "\t\tfiltered_words = [word for word in i[0].split() if word not in stop]\n",
    "\t\tcombine = (filtered_words , sentiment)\n",
    "\t\tarray.append(combine)\n",
    "\treturn array"
   ],
   "metadata": {
    "collapsed": false
   }
  },
  {
   "cell_type": "markdown",
   "source": [
    "### function to return all words present in all lyrics"
   ],
   "metadata": {
    "collapsed": false
   }
  },
  {
   "cell_type": "code",
   "execution_count": 42,
   "outputs": [],
   "source": [
    "def get_words(lyrics):\n",
    "\tall_words = []\n",
    "\tfor(words, sentiment) in lyrics:\n",
    "\t\tall_words.extend(words)\n",
    "\treturn all_words\n"
   ],
   "metadata": {
    "collapsed": false
   }
  },
  {
   "cell_type": "markdown",
   "source": [
    "### function to find frequency distribution of all words"
   ],
   "metadata": {
    "collapsed": false
   }
  },
  {
   "cell_type": "code",
   "execution_count": 43,
   "outputs": [],
   "source": [
    "def word_features(List_word):\n",
    "\tList_word = nltk.FreqDist(List_word)\n",
    "\tword_features = List_word.keys()\n",
    "\treturn word_features"
   ],
   "metadata": {
    "collapsed": false
   }
  },
  {
   "cell_type": "code",
   "execution_count": 44,
   "outputs": [],
   "source": [
    "def extract_features(doc):\n",
    "\tdoc_words = set(doc)\n",
    "\tfeatures = {}\n",
    "\tfor word in word_features:\n",
    "\t\tfeatures['contains(%s)' %word] = (word in doc_words)\n",
    "\treturn features\n"
   ],
   "metadata": {
    "collapsed": false
   }
  },
  {
   "cell_type": "markdown",
   "source": [
    "### function to remove stopwords from user-history lyrics"
   ],
   "metadata": {
    "collapsed": false
   }
  },
  {
   "cell_type": "code",
   "execution_count": 45,
   "outputs": [],
   "source": [
    "def stop_word_removal1(lyrics):\n",
    "    stop = set(stopwords.words('english'))\n",
    "    filtered_words = [word for word in lyrics.split() if word not in stop]\n",
    "    return filtered_words"
   ],
   "metadata": {
    "collapsed": false
   }
  },
  {
   "cell_type": "code",
   "execution_count": 46,
   "outputs": [],
   "source": [
    "# function to return list based on user-history\n",
    "def user_sentiment(file):\n",
    "    file_open = open(file)\n",
    "    file_read = file_open.read()\n",
    "    file_split=file_read.split(\"|\")\n",
    "    result_list=[]\n",
    "    for lyrics in file_split:\n",
    "        filtered_lyrics=stop_word_removal1(lyrics)\n",
    "        output = classifier.classify(extract_features(filtered_lyrics))\n",
    "        result_list.append(output)\n",
    "    return result_list"
   ],
   "metadata": {
    "collapsed": false
   }
  },
  {
   "cell_type": "markdown",
   "source": [
    "#### function to recommend next song to user based on user-history\n",
    "### give path of file \"training.txt\""
   ],
   "metadata": {
    "collapsed": false
   }
  },
  {
   "cell_type": "code",
   "execution_count": 47,
   "outputs": [],
   "source": [
    "def recommendedSong(history):\n",
    "    c= Counter(history)\n",
    "    file_open = open(\"testing_original.txt\")\n",
    "    file_read = file_open.read()\n",
    "    collection = ast.literal_eval(file_read)\n",
    "    if c['P']>=c['N']:\n",
    "        songs_positive=[i for i in collection if i[\"sentiment\"]=='P']\n",
    "        return songs_positive[randint(0,len(songs_positive)-1)][\"name\"]\n",
    "    else:\n",
    "        songs_negative=[i for i in collection if i[\"sentiment\"]=='N']\n",
    "        return songs_negative[randint(0,len(songs_negative)-1)][\"name\"]"
   ],
   "metadata": {
    "collapsed": false
   }
  },
  {
   "cell_type": "markdown",
   "source": [
    "### Training the model using training dataset"
   ],
   "metadata": {
    "collapsed": false
   }
  },
  {
   "cell_type": "code",
   "execution_count": 48,
   "outputs": [],
   "source": [
    "# creating tuples\n",
    "# give path of file \"training.txt\"\n",
    "lyrics = create_tuples(\"training_original.txt\")\n",
    "# removing stopwords\n",
    "filtered_corpus = stop_words_removal(lyrics)\n",
    "# Extracting Features\n",
    "word_features = word_features(get_words(filtered_corpus))\n",
    "# Applying Features\n",
    "training_set = nltk.classify.apply_features(extract_features,filtered_corpus)\n",
    "# Training Classifier\n",
    "classifier = nltk.NaiveBayesClassifier.train(training_set)"
   ],
   "metadata": {
    "collapsed": false
   }
  },
  {
   "cell_type": "markdown",
   "source": [
    "### Testing the model on test dataset"
   ],
   "metadata": {
    "collapsed": false
   }
  },
  {
   "cell_type": "code",
   "execution_count": 49,
   "outputs": [],
   "source": [
    "# creating tuples\n",
    "# give path of file \"testing.txt\"\n",
    "lyrics_test = create_tuples(\"testing_original.txt\")\n",
    "# removing stopwords\n",
    "test_corpus = stop_words_removal(lyrics_test)\n",
    "# applying classifier model on test dataset\n",
    "test_set = nltk.classify.apply_features(extract_features,test_corpus)"
   ],
   "metadata": {
    "collapsed": false
   }
  },
  {
   "cell_type": "code",
   "execution_count": 50,
   "outputs": [
    {
     "name": "stdout",
     "output_type": "stream",
     "text": [
      "\tAccuracy of the model is:0.6102941176470589\n"
     ]
    }
   ],
   "source": [
    "########  Checking Accuracy\n",
    "print(\"\\t\" + \"Accuracy of the model is:\" + str(nltk.classify.accuracy(classifier, test_set)))"
   ],
   "metadata": {
    "collapsed": false
   }
  },
  {
   "cell_type": "markdown",
   "source": [
    "###  testing : Checking model to predict sentiment on single lyrics"
   ],
   "metadata": {
    "collapsed": false
   }
  },
  {
   "cell_type": "code",
   "execution_count": 51,
   "outputs": [],
   "source": [
    "def sentiment(output):\n",
    "    if str(output) == \"P\":\n",
    "        return \"Positive\"\n",
    "    if str(output) == \"N\":\n",
    "        return \"Negative\"\n",
    "    if str(output) == \"A\":\n",
    "        return \"Sentiment not defined\""
   ],
   "metadata": {
    "collapsed": false
   }
  },
  {
   "cell_type": "code",
   "execution_count": 52,
   "outputs": [
    {
     "name": "stdout",
     "output_type": "stream",
     "text": [
      "Positive\n"
     ]
    }
   ],
   "source": [
    "lyrics = \"Gotta take my chance tonight\"\n",
    "output = classifier.classify(extract_features(lyrics.split()))\n",
    "print(sentiment(output))"
   ],
   "metadata": {
    "collapsed": false
   }
  },
  {
   "cell_type": "markdown",
   "source": [
    "###  Recommendation"
   ],
   "metadata": {
    "collapsed": false
   }
  },
  {
   "cell_type": "code",
   "execution_count": 53,
   "outputs": [],
   "source": [
    "\n",
    "#  Using model to recommend a song to user based on his/her listening habits\n",
    "# give path of file \"User_Last_5_Songs.txt\"\n",
    "file_open = open(\"User_Last_5_Songs.txt\")\n",
    "file_read = file_open.read()\n",
    "file_split=file_read.split(\"|\")\n",
    "result_list=[]"
   ],
   "metadata": {
    "collapsed": false
   }
  },
  {
   "cell_type": "code",
   "execution_count": 54,
   "outputs": [
    {
     "name": "stdout",
     "output_type": "stream",
     "text": [
      "recommend song: Come together\n"
     ]
    }
   ],
   "source": [
    "sentiment_history= user_sentiment(\"User_Last_5_Songs.txt\")\n",
    "print(\"recommend song: \" + recommendedSong(sentiment_history))"
   ],
   "metadata": {
    "collapsed": false
   }
  }
 ],
 "metadata": {
  "kernelspec": {
   "display_name": "Python 3",
   "language": "python",
   "name": "python3"
  },
  "language_info": {
   "codemirror_mode": {
    "name": "ipython",
    "version": 2
   },
   "file_extension": ".py",
   "mimetype": "text/x-python",
   "name": "python",
   "nbconvert_exporter": "python",
   "pygments_lexer": "ipython2",
   "version": "2.7.6"
  }
 },
 "nbformat": 4,
 "nbformat_minor": 0
}
