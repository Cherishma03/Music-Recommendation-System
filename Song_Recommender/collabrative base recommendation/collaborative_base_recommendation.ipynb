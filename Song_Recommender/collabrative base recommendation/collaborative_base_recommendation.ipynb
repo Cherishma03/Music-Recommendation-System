{
 "cells": [
  {
   "cell_type": "markdown",
   "metadata": {},
   "source": [
    "# Music recommender system\n",
    "\n",
    "One of the most used machine learning algorithms is recommendation systems. A **recommender** (or recommendation) **system** (or engine) is a filtering system which aim is to predict a rating or preference a user would give to an item, eg. a film, a product, a song, etc.\n",
    "\n",
    "Which type of recommender can we have?   \n",
    "\n",
    "There are two main types of recommender systems: \n",
    "- Content-based filters\n",
    "- Collaborative filters\n",
    "  \n",
    "> Content-based filters predicts what a user likes based on what that particular user has liked in the past. On the other hand, collaborative-based filters predict what a user like based on what other users, that are similar to that particular user, have liked.\n",
    "\n",
    "We have previously developed a content-based recommendation system. Now, we'll look into collaborative filtering. \n",
    "\n",
    "### 2) Collaborative filters\n",
    "\n",
    "Collaborative Filters work with an interaction matrix, also called rating matrix. The aim of this algorithm is to learn a function that can predict if a user will benefit from an item - meaning the user will likely buy, listen to, watch this item.\n",
    "\n",
    "Among collaborative-based systems, we can encounter two types: **user-item** filtering and **item-item** filtering. \n",
    "\n",
    "*What algorithms do collaborative filters use to recommend new songs?* There are several machine learning algorithms that can be used in the case of collaborative filtering."
   ]
  },
  {
   "cell_type": "markdown",
   "metadata": {},
   "source": [
    "### Importing required libraries"
   ]
  },
  {
   "cell_type": "markdown",
   "metadata": {},
   "source": [
    "First, we'll import all the required libraries."
   ]
  },
  {
   "cell_type": "code",
   "execution_count": 48,
   "metadata": {},
   "outputs": [],
   "source": [
    "import warnings\n",
    "warnings.filterwarnings(\"ignore\", category=FutureWarning)"
   ]
  },
  {
   "cell_type": "code",
   "execution_count": 49,
   "metadata": {},
   "outputs": [],
   "source": [
    "import pandas as pd\n",
    "import numpy as np\n",
    "import matplotlib.pyplot as plt\n",
    "import seaborn as sns"
   ]
  },
  {
   "cell_type": "code",
   "execution_count": 50,
   "metadata": {},
   "outputs": [],
   "source": [
    "from scipy.sparse import csr_matrix"
   ]
  },
  {
   "cell_type": "code",
   "execution_count": 51,
   "metadata": {},
   "outputs": [],
   "source": [
    "import Recommenders as Recommenders"
   ]
  },
  {
   "cell_type": "markdown",
   "metadata": {},
   "source": [
    "### Reading the files"
   ]
  },
  {
   "cell_type": "markdown",
   "metadata": {},
   "source": [
    "We are going to use the Million Song Dataset, a freely-available collection of audio features and metadata for a million contemporary popular music tracks."
   ]
  },
  {
   "cell_type": "markdown",
   "metadata": {},
   "source": [
    "There are two files that will be interesting for us. The first of them will give us information about the songs. Particularly, it contains the user ID, song ID and the listen count. On the other hand, the second file will contain song ID, title of that song, release, artist name and year. \n",
    "We need to merge these two DataFrames. For that aim, we'll use the `song_ID` "
   ]
  },
  {
   "cell_type": "code",
   "execution_count": 52,
   "metadata": {},
   "outputs": [
    {
     "data": {
      "text/plain": "                                    user_id             song_id  listen_count\n0  b80344d063b5ccb3212f76538f3d9e43d87dca9e  SOAKIMP12A8C130995             1\n1  b80344d063b5ccb3212f76538f3d9e43d87dca9e  SOBBMDR12A8C13253B             2\n2  b80344d063b5ccb3212f76538f3d9e43d87dca9e  SOBXHDL12A81C204C0             1\n3  b80344d063b5ccb3212f76538f3d9e43d87dca9e  SOBYHAJ12A6701BF1D             1\n4  b80344d063b5ccb3212f76538f3d9e43d87dca9e  SODACBL12A8C13C273             1",
      "text/html": "<div>\n<style scoped>\n    .dataframe tbody tr th:only-of-type {\n        vertical-align: middle;\n    }\n\n    .dataframe tbody tr th {\n        vertical-align: top;\n    }\n\n    .dataframe thead th {\n        text-align: right;\n    }\n</style>\n<table border=\"1\" class=\"dataframe\">\n  <thead>\n    <tr style=\"text-align: right;\">\n      <th></th>\n      <th>user_id</th>\n      <th>song_id</th>\n      <th>listen_count</th>\n    </tr>\n  </thead>\n  <tbody>\n    <tr>\n      <th>0</th>\n      <td>b80344d063b5ccb3212f76538f3d9e43d87dca9e</td>\n      <td>SOAKIMP12A8C130995</td>\n      <td>1</td>\n    </tr>\n    <tr>\n      <th>1</th>\n      <td>b80344d063b5ccb3212f76538f3d9e43d87dca9e</td>\n      <td>SOBBMDR12A8C13253B</td>\n      <td>2</td>\n    </tr>\n    <tr>\n      <th>2</th>\n      <td>b80344d063b5ccb3212f76538f3d9e43d87dca9e</td>\n      <td>SOBXHDL12A81C204C0</td>\n      <td>1</td>\n    </tr>\n    <tr>\n      <th>3</th>\n      <td>b80344d063b5ccb3212f76538f3d9e43d87dca9e</td>\n      <td>SOBYHAJ12A6701BF1D</td>\n      <td>1</td>\n    </tr>\n    <tr>\n      <th>4</th>\n      <td>b80344d063b5ccb3212f76538f3d9e43d87dca9e</td>\n      <td>SODACBL12A8C13C273</td>\n      <td>1</td>\n    </tr>\n  </tbody>\n</table>\n</div>"
     },
     "execution_count": 52,
     "metadata": {},
     "output_type": "execute_result"
    }
   ],
   "source": [
    "song_df_1 = pd.read_csv('triplets_file.csv')\n",
    "song_df_1.head()"
   ]
  },
  {
   "cell_type": "code",
   "execution_count": 53,
   "outputs": [
    {
     "data": {
      "text/plain": "              song_id              title  \\\n0  SOQMMHC12AB0180CB8       Silent Night   \n1  SOVFVAK12A8C1350D9        Tanssi vaan   \n2  SOGTUKN12AB017F4F1  No One Could Ever   \n3  SOBNYVR12A8C13558C      Si Vos Querés   \n4  SOHSBXH12A8C13B0DF   Tangle Of Aspens   \n\n                                release       artist_name  year  \n0                 Monster Ballads X-Mas  Faster Pussy cat  2003  \n1                           Karkuteillä  Karkkiautomaatti  1995  \n2                                Butter    Hudson Mohawke  2006  \n3                               De Culo       Yerba Brava  2003  \n4  Rene Ablaze Presents Winter Sessions        Der Mystic     0  ",
      "text/html": "<div>\n<style scoped>\n    .dataframe tbody tr th:only-of-type {\n        vertical-align: middle;\n    }\n\n    .dataframe tbody tr th {\n        vertical-align: top;\n    }\n\n    .dataframe thead th {\n        text-align: right;\n    }\n</style>\n<table border=\"1\" class=\"dataframe\">\n  <thead>\n    <tr style=\"text-align: right;\">\n      <th></th>\n      <th>song_id</th>\n      <th>title</th>\n      <th>release</th>\n      <th>artist_name</th>\n      <th>year</th>\n    </tr>\n  </thead>\n  <tbody>\n    <tr>\n      <th>0</th>\n      <td>SOQMMHC12AB0180CB8</td>\n      <td>Silent Night</td>\n      <td>Monster Ballads X-Mas</td>\n      <td>Faster Pussy cat</td>\n      <td>2003</td>\n    </tr>\n    <tr>\n      <th>1</th>\n      <td>SOVFVAK12A8C1350D9</td>\n      <td>Tanssi vaan</td>\n      <td>Karkuteillä</td>\n      <td>Karkkiautomaatti</td>\n      <td>1995</td>\n    </tr>\n    <tr>\n      <th>2</th>\n      <td>SOGTUKN12AB017F4F1</td>\n      <td>No One Could Ever</td>\n      <td>Butter</td>\n      <td>Hudson Mohawke</td>\n      <td>2006</td>\n    </tr>\n    <tr>\n      <th>3</th>\n      <td>SOBNYVR12A8C13558C</td>\n      <td>Si Vos Querés</td>\n      <td>De Culo</td>\n      <td>Yerba Brava</td>\n      <td>2003</td>\n    </tr>\n    <tr>\n      <th>4</th>\n      <td>SOHSBXH12A8C13B0DF</td>\n      <td>Tangle Of Aspens</td>\n      <td>Rene Ablaze Presents Winter Sessions</td>\n      <td>Der Mystic</td>\n      <td>0</td>\n    </tr>\n  </tbody>\n</table>\n</div>"
     },
     "execution_count": 53,
     "metadata": {},
     "output_type": "execute_result"
    }
   ],
   "source": [
    "song_df_2 = pd.read_csv('song_data.csv')\n",
    "song_df_2.head()"
   ],
   "metadata": {
    "collapsed": false
   }
  },
  {
   "cell_type": "code",
   "execution_count": 54,
   "outputs": [
    {
     "data": {
      "text/plain": "                                    user_id             song_id  listen_count  \\\n0  b80344d063b5ccb3212f76538f3d9e43d87dca9e  SOAKIMP12A8C130995             1   \n1  b80344d063b5ccb3212f76538f3d9e43d87dca9e  SOBBMDR12A8C13253B             2   \n2  b80344d063b5ccb3212f76538f3d9e43d87dca9e  SOBXHDL12A81C204C0             1   \n3  b80344d063b5ccb3212f76538f3d9e43d87dca9e  SOBYHAJ12A6701BF1D             1   \n4  b80344d063b5ccb3212f76538f3d9e43d87dca9e  SODACBL12A8C13C273             1   \n\n             title                        release    artist_name  year  \n0         The Cove             Thicker Than Water   Jack Johnson     0  \n1  Entre Dos Aguas            Flamenco Para Niños  Paco De Lucia  1976  \n2         Stronger                     Graduation     Kanye West  2007  \n3   Constellations              In Between Dreams   Jack Johnson  2005  \n4     Learn To Fly  There Is Nothing Left To Lose   Foo Fighters  1999  ",
      "text/html": "<div>\n<style scoped>\n    .dataframe tbody tr th:only-of-type {\n        vertical-align: middle;\n    }\n\n    .dataframe tbody tr th {\n        vertical-align: top;\n    }\n\n    .dataframe thead th {\n        text-align: right;\n    }\n</style>\n<table border=\"1\" class=\"dataframe\">\n  <thead>\n    <tr style=\"text-align: right;\">\n      <th></th>\n      <th>user_id</th>\n      <th>song_id</th>\n      <th>listen_count</th>\n      <th>title</th>\n      <th>release</th>\n      <th>artist_name</th>\n      <th>year</th>\n    </tr>\n  </thead>\n  <tbody>\n    <tr>\n      <th>0</th>\n      <td>b80344d063b5ccb3212f76538f3d9e43d87dca9e</td>\n      <td>SOAKIMP12A8C130995</td>\n      <td>1</td>\n      <td>The Cove</td>\n      <td>Thicker Than Water</td>\n      <td>Jack Johnson</td>\n      <td>0</td>\n    </tr>\n    <tr>\n      <th>1</th>\n      <td>b80344d063b5ccb3212f76538f3d9e43d87dca9e</td>\n      <td>SOBBMDR12A8C13253B</td>\n      <td>2</td>\n      <td>Entre Dos Aguas</td>\n      <td>Flamenco Para Niños</td>\n      <td>Paco De Lucia</td>\n      <td>1976</td>\n    </tr>\n    <tr>\n      <th>2</th>\n      <td>b80344d063b5ccb3212f76538f3d9e43d87dca9e</td>\n      <td>SOBXHDL12A81C204C0</td>\n      <td>1</td>\n      <td>Stronger</td>\n      <td>Graduation</td>\n      <td>Kanye West</td>\n      <td>2007</td>\n    </tr>\n    <tr>\n      <th>3</th>\n      <td>b80344d063b5ccb3212f76538f3d9e43d87dca9e</td>\n      <td>SOBYHAJ12A6701BF1D</td>\n      <td>1</td>\n      <td>Constellations</td>\n      <td>In Between Dreams</td>\n      <td>Jack Johnson</td>\n      <td>2005</td>\n    </tr>\n    <tr>\n      <th>4</th>\n      <td>b80344d063b5ccb3212f76538f3d9e43d87dca9e</td>\n      <td>SODACBL12A8C13C273</td>\n      <td>1</td>\n      <td>Learn To Fly</td>\n      <td>There Is Nothing Left To Lose</td>\n      <td>Foo Fighters</td>\n      <td>1999</td>\n    </tr>\n  </tbody>\n</table>\n</div>"
     },
     "execution_count": 54,
     "metadata": {},
     "output_type": "execute_result"
    }
   ],
   "source": [
    "# combine both data\n",
    "songs = pd.merge(song_df_1, song_df_2.drop_duplicates(['song_id']), on='song_id', how='left')\n",
    "songs.head()"
   ],
   "metadata": {
    "collapsed": false
   }
  },
  {
   "cell_type": "code",
   "execution_count": 55,
   "metadata": {},
   "outputs": [
    {
     "data": {
      "text/plain": "                                    user_id             song_id  listen_count  \\\n0  b80344d063b5ccb3212f76538f3d9e43d87dca9e  SOAKIMP12A8C130995             1   \n1  b80344d063b5ccb3212f76538f3d9e43d87dca9e  SOBBMDR12A8C13253B             2   \n2  b80344d063b5ccb3212f76538f3d9e43d87dca9e  SOBXHDL12A81C204C0             1   \n3  b80344d063b5ccb3212f76538f3d9e43d87dca9e  SOBYHAJ12A6701BF1D             1   \n4  b80344d063b5ccb3212f76538f3d9e43d87dca9e  SODACBL12A8C13C273             1   \n\n             title                        release    artist_name  year  \n0         The Cove             Thicker Than Water   Jack Johnson     0  \n1  Entre Dos Aguas            Flamenco Para Niños  Paco De Lucia  1976  \n2         Stronger                     Graduation     Kanye West  2007  \n3   Constellations              In Between Dreams   Jack Johnson  2005  \n4     Learn To Fly  There Is Nothing Left To Lose   Foo Fighters  1999  ",
      "text/html": "<div>\n<style scoped>\n    .dataframe tbody tr th:only-of-type {\n        vertical-align: middle;\n    }\n\n    .dataframe tbody tr th {\n        vertical-align: top;\n    }\n\n    .dataframe thead th {\n        text-align: right;\n    }\n</style>\n<table border=\"1\" class=\"dataframe\">\n  <thead>\n    <tr style=\"text-align: right;\">\n      <th></th>\n      <th>user_id</th>\n      <th>song_id</th>\n      <th>listen_count</th>\n      <th>title</th>\n      <th>release</th>\n      <th>artist_name</th>\n      <th>year</th>\n    </tr>\n  </thead>\n  <tbody>\n    <tr>\n      <th>0</th>\n      <td>b80344d063b5ccb3212f76538f3d9e43d87dca9e</td>\n      <td>SOAKIMP12A8C130995</td>\n      <td>1</td>\n      <td>The Cove</td>\n      <td>Thicker Than Water</td>\n      <td>Jack Johnson</td>\n      <td>0</td>\n    </tr>\n    <tr>\n      <th>1</th>\n      <td>b80344d063b5ccb3212f76538f3d9e43d87dca9e</td>\n      <td>SOBBMDR12A8C13253B</td>\n      <td>2</td>\n      <td>Entre Dos Aguas</td>\n      <td>Flamenco Para Niños</td>\n      <td>Paco De Lucia</td>\n      <td>1976</td>\n    </tr>\n    <tr>\n      <th>2</th>\n      <td>b80344d063b5ccb3212f76538f3d9e43d87dca9e</td>\n      <td>SOBXHDL12A81C204C0</td>\n      <td>1</td>\n      <td>Stronger</td>\n      <td>Graduation</td>\n      <td>Kanye West</td>\n      <td>2007</td>\n    </tr>\n    <tr>\n      <th>3</th>\n      <td>b80344d063b5ccb3212f76538f3d9e43d87dca9e</td>\n      <td>SOBYHAJ12A6701BF1D</td>\n      <td>1</td>\n      <td>Constellations</td>\n      <td>In Between Dreams</td>\n      <td>Jack Johnson</td>\n      <td>2005</td>\n    </tr>\n    <tr>\n      <th>4</th>\n      <td>b80344d063b5ccb3212f76538f3d9e43d87dca9e</td>\n      <td>SODACBL12A8C13C273</td>\n      <td>1</td>\n      <td>Learn To Fly</td>\n      <td>There Is Nothing Left To Lose</td>\n      <td>Foo Fighters</td>\n      <td>1999</td>\n    </tr>\n  </tbody>\n</table>\n</div>"
     },
     "execution_count": 55,
     "metadata": {},
     "output_type": "execute_result"
    }
   ],
   "source": [
    "songs.head()"
   ]
  },
  {
   "cell_type": "markdown",
   "metadata": {},
   "source": [
    "We'll save this dataset into a `csv file` so we have this available if there is any other recommendation system project we want to do."
   ]
  },
  {
   "cell_type": "code",
   "execution_count": 56,
   "metadata": {},
   "outputs": [],
   "source": [
    "songs.to_csv('songs.csv', index=False)"
   ]
  },
  {
   "cell_type": "markdown",
   "metadata": {},
   "source": [
    "We can read this file into a new **DataFrame** that we'd call `df_songs`."
   ]
  },
  {
   "cell_type": "code",
   "execution_count": 57,
   "metadata": {},
   "outputs": [],
   "source": [
    "df_songs = pd.read_csv('songs.csv')"
   ]
  },
  {
   "cell_type": "markdown",
   "metadata": {},
   "source": [
    "## Exploring the data"
   ]
  },
  {
   "cell_type": "markdown",
   "metadata": {},
   "source": [
    "As usual, any data science or machine learning project starts with an exploratory data analysis (EDA). The aim of EDA is to understand and get insights on our data."
   ]
  },
  {
   "cell_type": "markdown",
   "metadata": {},
   "source": [
    "We'll first inspect the first rows of our `DataFrame`."
   ]
  },
  {
   "cell_type": "code",
   "execution_count": 58,
   "metadata": {},
   "outputs": [
    {
     "data": {
      "text/plain": "                                    user_id             song_id  listen_count  \\\n0  b80344d063b5ccb3212f76538f3d9e43d87dca9e  SOAKIMP12A8C130995             1   \n1  b80344d063b5ccb3212f76538f3d9e43d87dca9e  SOBBMDR12A8C13253B             2   \n2  b80344d063b5ccb3212f76538f3d9e43d87dca9e  SOBXHDL12A81C204C0             1   \n3  b80344d063b5ccb3212f76538f3d9e43d87dca9e  SOBYHAJ12A6701BF1D             1   \n4  b80344d063b5ccb3212f76538f3d9e43d87dca9e  SODACBL12A8C13C273             1   \n\n             title                        release    artist_name  year  \n0         The Cove             Thicker Than Water   Jack Johnson     0  \n1  Entre Dos Aguas            Flamenco Para Niños  Paco De Lucia  1976  \n2         Stronger                     Graduation     Kanye West  2007  \n3   Constellations              In Between Dreams   Jack Johnson  2005  \n4     Learn To Fly  There Is Nothing Left To Lose   Foo Fighters  1999  ",
      "text/html": "<div>\n<style scoped>\n    .dataframe tbody tr th:only-of-type {\n        vertical-align: middle;\n    }\n\n    .dataframe tbody tr th {\n        vertical-align: top;\n    }\n\n    .dataframe thead th {\n        text-align: right;\n    }\n</style>\n<table border=\"1\" class=\"dataframe\">\n  <thead>\n    <tr style=\"text-align: right;\">\n      <th></th>\n      <th>user_id</th>\n      <th>song_id</th>\n      <th>listen_count</th>\n      <th>title</th>\n      <th>release</th>\n      <th>artist_name</th>\n      <th>year</th>\n    </tr>\n  </thead>\n  <tbody>\n    <tr>\n      <th>0</th>\n      <td>b80344d063b5ccb3212f76538f3d9e43d87dca9e</td>\n      <td>SOAKIMP12A8C130995</td>\n      <td>1</td>\n      <td>The Cove</td>\n      <td>Thicker Than Water</td>\n      <td>Jack Johnson</td>\n      <td>0</td>\n    </tr>\n    <tr>\n      <th>1</th>\n      <td>b80344d063b5ccb3212f76538f3d9e43d87dca9e</td>\n      <td>SOBBMDR12A8C13253B</td>\n      <td>2</td>\n      <td>Entre Dos Aguas</td>\n      <td>Flamenco Para Niños</td>\n      <td>Paco De Lucia</td>\n      <td>1976</td>\n    </tr>\n    <tr>\n      <th>2</th>\n      <td>b80344d063b5ccb3212f76538f3d9e43d87dca9e</td>\n      <td>SOBXHDL12A81C204C0</td>\n      <td>1</td>\n      <td>Stronger</td>\n      <td>Graduation</td>\n      <td>Kanye West</td>\n      <td>2007</td>\n    </tr>\n    <tr>\n      <th>3</th>\n      <td>b80344d063b5ccb3212f76538f3d9e43d87dca9e</td>\n      <td>SOBYHAJ12A6701BF1D</td>\n      <td>1</td>\n      <td>Constellations</td>\n      <td>In Between Dreams</td>\n      <td>Jack Johnson</td>\n      <td>2005</td>\n    </tr>\n    <tr>\n      <th>4</th>\n      <td>b80344d063b5ccb3212f76538f3d9e43d87dca9e</td>\n      <td>SODACBL12A8C13C273</td>\n      <td>1</td>\n      <td>Learn To Fly</td>\n      <td>There Is Nothing Left To Lose</td>\n      <td>Foo Fighters</td>\n      <td>1999</td>\n    </tr>\n  </tbody>\n</table>\n</div>"
     },
     "execution_count": 58,
     "metadata": {},
     "output_type": "execute_result"
    }
   ],
   "source": [
    "df_songs.head()"
   ]
  },
  {
   "cell_type": "markdown",
   "metadata": {},
   "source": [
    "Then, we'll check how many observions there are in the dataset."
   ]
  },
  {
   "cell_type": "code",
   "execution_count": 59,
   "metadata": {},
   "outputs": [
    {
     "name": "stdout",
     "output_type": "stream",
     "text": [
      "There are 2000000 observations in the dataset\n"
     ]
    }
   ],
   "source": [
    "#Get total observations\n",
    "print(f\"There are {df_songs.shape[0]} observations in the dataset\")"
   ]
  },
  {
   "cell_type": "markdown",
   "metadata": {},
   "source": [
    "Now, we should perform some cleaning steps. But looking at the dataset, we can see that there is no missing values."
   ]
  },
  {
   "cell_type": "code",
   "execution_count": 60,
   "metadata": {},
   "outputs": [
    {
     "data": {
      "text/plain": "user_id         0\nsong_id         0\nlisten_count    0\ntitle           0\nrelease         0\nartist_name     0\nyear            0\ndtype: int64"
     },
     "execution_count": 60,
     "metadata": {},
     "output_type": "execute_result"
    }
   ],
   "source": [
    "df_songs.isnull().sum()"
   ]
  },
  {
   "cell_type": "markdown",
   "metadata": {},
   "source": [
    "And most of the columns contain strings."
   ]
  },
  {
   "cell_type": "code",
   "execution_count": 61,
   "metadata": {},
   "outputs": [
    {
     "data": {
      "text/plain": "user_id         object\nsong_id         object\nlisten_count     int64\ntitle           object\nrelease         object\nartist_name     object\nyear             int64\ndtype: object"
     },
     "execution_count": 61,
     "metadata": {},
     "output_type": "execute_result"
    }
   ],
   "source": [
    "df_songs.dtypes"
   ]
  },
  {
   "cell_type": "markdown",
   "metadata": {},
   "source": [
    "Let's start exploring some characteristics of the dataset: \n",
    "\n",
    "- Unique songs:"
   ]
  },
  {
   "cell_type": "code",
   "execution_count": 62,
   "metadata": {},
   "outputs": [
    {
     "name": "stdout",
     "output_type": "stream",
     "text": [
      "There are 9567 unique songs in the dataset\n"
     ]
    }
   ],
   "source": [
    "#Unique songs\n",
    "unique_songs = df_songs['title'].unique().shape[0]\n",
    "print(f\"There are {unique_songs} unique songs in the dataset\")"
   ]
  },
  {
   "cell_type": "markdown",
   "metadata": {},
   "source": [
    "- Unique artists:"
   ]
  },
  {
   "cell_type": "code",
   "execution_count": 63,
   "metadata": {},
   "outputs": [
    {
     "name": "stdout",
     "output_type": "stream",
     "text": [
      "There are 3375 unique artists in the dataset\n"
     ]
    }
   ],
   "source": [
    "#Unique artists\n",
    "unique_artists = df_songs['artist_name'].unique().shape[0]\n",
    "print(f\"There are {unique_artists} unique artists in the dataset\")"
   ]
  },
  {
   "cell_type": "markdown",
   "metadata": {},
   "source": [
    "- Unique users:"
   ]
  },
  {
   "cell_type": "code",
   "execution_count": 64,
   "metadata": {},
   "outputs": [
    {
     "name": "stdout",
     "output_type": "stream",
     "text": [
      "There are 76353 unique users in the dataset\n"
     ]
    }
   ],
   "source": [
    "#Unique users\n",
    "unique_users = df_songs['user_id'].unique().shape[0]\n",
    "print(f\"There are {unique_users} unique users in the dataset\")"
   ]
  },
  {
   "cell_type": "markdown",
   "metadata": {},
   "source": [
    "We'll go ahead and explore the popularity of songs and artists."
   ]
  },
  {
   "cell_type": "markdown",
   "metadata": {},
   "source": [
    "### Most popular songs"
   ]
  },
  {
   "cell_type": "markdown",
   "metadata": {},
   "source": [
    "How do we determine which are the most popular songs? For this task, we'll count how many times each song appears. Note that while we are using  `listen_count`, we only care about the number of rows, we don't consider the number present in that row. This number represents how many times one user listen to the same song."
   ]
  },
  {
   "cell_type": "code",
   "execution_count": 65,
   "metadata": {
    "scrolled": true
   },
   "outputs": [],
   "source": [
    "#count how many rows we have by song, we show only the ten more popular songs \n",
    "ten_pop_songs = df_songs.groupby('title')['listen_count'].count().reset_index().sort_values(['listen_count', 'title'], ascending = [0,1])\n",
    "ten_pop_songs['percentage']  = round(ten_pop_songs['listen_count'].div(ten_pop_songs['listen_count'].sum())*100, 2)"
   ]
  },
  {
   "cell_type": "code",
   "execution_count": 66,
   "metadata": {},
   "outputs": [
    {
     "data": {
      "text/plain": "                                                  title  listen_count  \\\n6836                                      Sehr kosmisch          8277   \n8725                                               Undo          7032   \n1964                     Dog Days Are Over (Radio Edit)          6949   \n9496                                     You're The One          6729   \n6498                                            Revelry          6145   \n6825                                            Secrets          5841   \n3437  Horn Concerto No. 4 in E flat K495: II. Romanc...          5385   \n2595                                          Fireflies          4795   \n3322                                   Hey_ Soul Sister          4758   \n8494                                           Tive Sim          4548   \n\n      percentage  \n6836        0.41  \n8725        0.35  \n1964        0.35  \n9496        0.34  \n6498        0.31  \n6825        0.29  \n3437        0.27  \n2595        0.24  \n3322        0.24  \n8494        0.23  ",
      "text/html": "<div>\n<style scoped>\n    .dataframe tbody tr th:only-of-type {\n        vertical-align: middle;\n    }\n\n    .dataframe tbody tr th {\n        vertical-align: top;\n    }\n\n    .dataframe thead th {\n        text-align: right;\n    }\n</style>\n<table border=\"1\" class=\"dataframe\">\n  <thead>\n    <tr style=\"text-align: right;\">\n      <th></th>\n      <th>title</th>\n      <th>listen_count</th>\n      <th>percentage</th>\n    </tr>\n  </thead>\n  <tbody>\n    <tr>\n      <th>6836</th>\n      <td>Sehr kosmisch</td>\n      <td>8277</td>\n      <td>0.41</td>\n    </tr>\n    <tr>\n      <th>8725</th>\n      <td>Undo</td>\n      <td>7032</td>\n      <td>0.35</td>\n    </tr>\n    <tr>\n      <th>1964</th>\n      <td>Dog Days Are Over (Radio Edit)</td>\n      <td>6949</td>\n      <td>0.35</td>\n    </tr>\n    <tr>\n      <th>9496</th>\n      <td>You're The One</td>\n      <td>6729</td>\n      <td>0.34</td>\n    </tr>\n    <tr>\n      <th>6498</th>\n      <td>Revelry</td>\n      <td>6145</td>\n      <td>0.31</td>\n    </tr>\n    <tr>\n      <th>6825</th>\n      <td>Secrets</td>\n      <td>5841</td>\n      <td>0.29</td>\n    </tr>\n    <tr>\n      <th>3437</th>\n      <td>Horn Concerto No. 4 in E flat K495: II. Romanc...</td>\n      <td>5385</td>\n      <td>0.27</td>\n    </tr>\n    <tr>\n      <th>2595</th>\n      <td>Fireflies</td>\n      <td>4795</td>\n      <td>0.24</td>\n    </tr>\n    <tr>\n      <th>3322</th>\n      <td>Hey_ Soul Sister</td>\n      <td>4758</td>\n      <td>0.24</td>\n    </tr>\n    <tr>\n      <th>8494</th>\n      <td>Tive Sim</td>\n      <td>4548</td>\n      <td>0.23</td>\n    </tr>\n  </tbody>\n</table>\n</div>"
     },
     "execution_count": 66,
     "metadata": {},
     "output_type": "execute_result"
    }
   ],
   "source": [
    "ten_pop_songs = ten_pop_songs[:10]\n",
    "ten_pop_songs"
   ]
  },
  {
   "cell_type": "code",
   "execution_count": 67,
   "metadata": {},
   "outputs": [],
   "source": [
    "labels = ten_pop_songs['title'].tolist()\n",
    "counts = ten_pop_songs['listen_count'].tolist()"
   ]
  },
  {
   "cell_type": "code",
   "execution_count": 68,
   "metadata": {},
   "outputs": [
    {
     "data": {
      "text/plain": "<Figure size 640x480 with 1 Axes>",
      "image/png": "[encoded data removed]"
     },
     "metadata": {},
     "output_type": "display_data"
    }
   ],
   "source": [
    "plt.figure()\n",
    "sns.barplot(x=counts, y=labels, palette='Set3')\n",
    "sns.despine(left=True, bottom=True)"
   ]
  },
  {
   "cell_type": "markdown",
   "metadata": {},
   "source": [
    "### Most popular artist"
   ]
  },
  {
   "cell_type": "markdown",
   "metadata": {},
   "source": [
    "For the next task, we'll count how many times each artist appears. Again, we'll count how many times the same artist appears."
   ]
  },
  {
   "cell_type": "code",
   "execution_count": 69,
   "metadata": {},
   "outputs": [],
   "source": [
    "#count how many rows we have by artist name, we show only the ten more popular artist \n",
    "ten_pop_artists  = df_songs.groupby(['artist_name'])['listen_count'].count().reset_index().sort_values(['listen_count', 'artist_name'], \n",
    "                                                                                                ascending = [0,1])"
   ]
  },
  {
   "cell_type": "code",
   "execution_count": 70,
   "metadata": {},
   "outputs": [
    {
     "data": {
      "text/plain": "                 artist_name  listen_count\n649                 Coldplay         29422\n2850          The Black Keys         19862\n1651           Kings Of Leon         18747\n1107  Florence + The Machine         18112\n1370            Jack Johnson         17801\n2946             The Killers         16063\n2374               Radiohead         14890\n736                Daft Punk         14715\n2073                    Muse         14005\n1554           Justin Bieber         13959",
      "text/html": "<div>\n<style scoped>\n    .dataframe tbody tr th:only-of-type {\n        vertical-align: middle;\n    }\n\n    .dataframe tbody tr th {\n        vertical-align: top;\n    }\n\n    .dataframe thead th {\n        text-align: right;\n    }\n</style>\n<table border=\"1\" class=\"dataframe\">\n  <thead>\n    <tr style=\"text-align: right;\">\n      <th></th>\n      <th>artist_name</th>\n      <th>listen_count</th>\n    </tr>\n  </thead>\n  <tbody>\n    <tr>\n      <th>649</th>\n      <td>Coldplay</td>\n      <td>29422</td>\n    </tr>\n    <tr>\n      <th>2850</th>\n      <td>The Black Keys</td>\n      <td>19862</td>\n    </tr>\n    <tr>\n      <th>1651</th>\n      <td>Kings Of Leon</td>\n      <td>18747</td>\n    </tr>\n    <tr>\n      <th>1107</th>\n      <td>Florence + The Machine</td>\n      <td>18112</td>\n    </tr>\n    <tr>\n      <th>1370</th>\n      <td>Jack Johnson</td>\n      <td>17801</td>\n    </tr>\n    <tr>\n      <th>2946</th>\n      <td>The Killers</td>\n      <td>16063</td>\n    </tr>\n    <tr>\n      <th>2374</th>\n      <td>Radiohead</td>\n      <td>14890</td>\n    </tr>\n    <tr>\n      <th>736</th>\n      <td>Daft Punk</td>\n      <td>14715</td>\n    </tr>\n    <tr>\n      <th>2073</th>\n      <td>Muse</td>\n      <td>14005</td>\n    </tr>\n    <tr>\n      <th>1554</th>\n      <td>Justin Bieber</td>\n      <td>13959</td>\n    </tr>\n  </tbody>\n</table>\n</div>"
     },
     "execution_count": 70,
     "metadata": {},
     "output_type": "execute_result"
    }
   ],
   "source": [
    "ten_pop_artists = ten_pop_artists[:10]\n",
    "ten_pop_artists"
   ]
  },
  {
   "cell_type": "code",
   "execution_count": 71,
   "metadata": {},
   "outputs": [
    {
     "data": {
      "text/plain": "<Figure size 640x480 with 1 Axes>",
      "image/png": "[encoded data removed]"
     },
     "metadata": {},
     "output_type": "display_data"
    }
   ],
   "source": [
    "plt.figure()\n",
    "labels = ten_pop_artists['artist_name'].tolist()\n",
    "counts = ten_pop_artists['listen_count'].tolist()\n",
    "sns.barplot(x=counts, y=labels, palette='Set2')\n",
    "sns.despine(left=True, bottom=True)"
   ]
  },
  {
   "cell_type": "markdown",
   "metadata": {},
   "source": [
    "### Listen count by user"
   ]
  },
  {
   "cell_type": "markdown",
   "metadata": {},
   "source": [
    "We can also get some other information from the feature `listen_count`. We will answer the folloging questions:"
   ]
  },
  {
   "cell_type": "markdown",
   "metadata": {},
   "source": [
    "**What was the maximum time the same user listen to a same song?**"
   ]
  },
  {
   "cell_type": "code",
   "execution_count": 72,
   "metadata": {},
   "outputs": [],
   "source": [
    "listen_counts = pd.DataFrame(df_songs.groupby('listen_count').size(), columns=['count'])"
   ]
  },
  {
   "cell_type": "code",
   "execution_count": 73,
   "metadata": {},
   "outputs": [
    {
     "name": "stdout",
     "output_type": "stream",
     "text": [
      "The maximum time the same user listened to the same songs was: 2213\n"
     ]
    }
   ],
   "source": [
    "print(f\"The maximum time the same user listened to the same songs was: {listen_counts.reset_index(drop=False)['listen_count'].iloc[-1]}\")"
   ]
  },
  {
   "cell_type": "markdown",
   "metadata": {},
   "source": [
    "**How many times on average the same user listen to a same song?**"
   ]
  },
  {
   "cell_type": "code",
   "execution_count": 74,
   "metadata": {},
   "outputs": [
    {
     "name": "stdout",
     "output_type": "stream",
     "text": [
      "On average, a user listen to the same song 3.0454845 times\n"
     ]
    }
   ],
   "source": [
    "print(f\"On average, a user listen to the same song {df_songs['listen_count'].mean()} times\")"
   ]
  },
  {
   "cell_type": "markdown",
   "metadata": {},
   "source": [
    "We can also check the distribution of `listen_count`:"
   ]
  },
  {
   "cell_type": "code",
   "execution_count": 75,
   "metadata": {},
   "outputs": [
    {
     "data": {
      "text/plain": "<Figure size 2000x500 with 1 Axes>",
      "image/png": "[encoded data removed]"
     },
     "metadata": {},
     "output_type": "display_data"
    }
   ],
   "source": [
    "plt.figure(figsize=(20, 5))\n",
    "sns.boxplot(x='listen_count', data=df_songs)\n",
    "sns.despine()"
   ]
  },
  {
   "cell_type": "markdown",
   "metadata": {},
   "source": [
    "**What are the most frequent number of times a user listen to the same song?**"
   ]
  },
  {
   "cell_type": "code",
   "execution_count": 76,
   "metadata": {},
   "outputs": [],
   "source": [
    "listen_counts_temp = listen_counts[listen_counts['count'] > 50].reset_index(drop=False)"
   ]
  },
  {
   "cell_type": "code",
   "execution_count": 77,
   "metadata": {},
   "outputs": [
    {
     "data": {
      "text/plain": "<Figure size 1600x800 with 1 Axes>",
      "image/png": "[encoded data removed]"
     },
     "metadata": {},
     "output_type": "display_data"
    }
   ],
   "source": [
    "plt.figure(figsize=(16, 8))\n",
    "sns.barplot(x='listen_count', y='count', palette='Set3', data=listen_counts_temp)\n",
    "plt.gca().spines['top'].set_visible(False)\n",
    "plt.gca().spines['right'].set_visible(False)\n",
    "plt.show();"
   ]
  },
  {
   "cell_type": "markdown",
   "metadata": {},
   "source": [
    "**How many songs does a user listen in average?**"
   ]
  },
  {
   "cell_type": "code",
   "execution_count": 78,
   "metadata": {},
   "outputs": [],
   "source": [
    "song_user = df_songs.groupby('user_id')['song_id'].count()"
   ]
  },
  {
   "cell_type": "code",
   "execution_count": 79,
   "metadata": {},
   "outputs": [
    {
     "name": "stderr",
     "output_type": "stream",
     "text": [
      "C:\\Users\\Ayyappa Swamy\\AppData\\Local\\Temp\\ipykernel_28976\\3357008667.py:2: UserWarning: \n",
      "\n",
      "`distplot` is a deprecated function and will be removed in seaborn v0.14.0.\n",
      "\n",
      "Please adapt your code to use either `displot` (a figure-level function with\n",
      "similar flexibility) or `histplot` (an axes-level function for histograms).\n",
      "\n",
      "For a guide to updating your code to use the new functions, please see\n",
      "https://gist.github.com/mwaskom/de44147ed2974457ad6372750bbe5751\n",
      "\n",
      "  sns.distplot(song_user.values, color='orange')\n"
     ]
    },
    {
     "data": {
      "text/plain": "<Figure size 1600x800 with 1 Axes>",
      "image/png": "[encoded data removed]"
     },
     "metadata": {},
     "output_type": "display_data"
    }
   ],
   "source": [
    "plt.figure(figsize=(16, 8))\n",
    "sns.distplot(song_user.values, color='orange')\n",
    "plt.gca().spines['top'].set_visible(False)\n",
    "plt.gca().spines['right'].set_visible(False)\n",
    "plt.show();"
   ]
  },
  {
   "cell_type": "code",
   "execution_count": 80,
   "metadata": {},
   "outputs": [
    {
     "name": "stdout",
     "output_type": "stream",
     "text": [
      "A user listens to an average of 26.194124657839247 songs\n"
     ]
    }
   ],
   "source": [
    "print(f\"A user listens to an average of {np.mean(song_user)} songs\")"
   ]
  },
  {
   "cell_type": "code",
   "execution_count": 81,
   "metadata": {},
   "outputs": [
    {
     "name": "stdout",
     "output_type": "stream",
     "text": [
      "A user listens to an average of 16.0 songs, with minimum 1 and maximum 711 songs\n"
     ]
    }
   ],
   "source": [
    "print(f\"A user listens to an average of {np.median(song_user)} songs, with minimum {np.min(song_user)} and maximum {np.max(song_user)} songs\")"
   ]
  },
  {
   "cell_type": "markdown",
   "source": [
    "## Data Preprocessing"
   ],
   "metadata": {
    "collapsed": false
   }
  },
  {
   "cell_type": "code",
   "execution_count": 82,
   "outputs": [
    {
     "data": {
      "text/plain": "                                    user_id             song_id  listen_count  \\\n0  b80344d063b5ccb3212f76538f3d9e43d87dca9e  SOAKIMP12A8C130995             1   \n1  b80344d063b5ccb3212f76538f3d9e43d87dca9e  SOBBMDR12A8C13253B             2   \n2  b80344d063b5ccb3212f76538f3d9e43d87dca9e  SOBXHDL12A81C204C0             1   \n3  b80344d063b5ccb3212f76538f3d9e43d87dca9e  SOBYHAJ12A6701BF1D             1   \n4  b80344d063b5ccb3212f76538f3d9e43d87dca9e  SODACBL12A8C13C273             1   \n\n             title                        release    artist_name  year  \\\n0         The Cove             Thicker Than Water   Jack Johnson     0   \n1  Entre Dos Aguas            Flamenco Para Niños  Paco De Lucia  1976   \n2         Stronger                     Graduation     Kanye West  2007   \n3   Constellations              In Between Dreams   Jack Johnson  2005   \n4     Learn To Fly  There Is Nothing Left To Lose   Foo Fighters  1999   \n\n                              song  \n0          The Cove - Jack Johnson  \n1  Entre Dos Aguas - Paco De Lucia  \n2            Stronger - Kanye West  \n3    Constellations - Jack Johnson  \n4      Learn To Fly - Foo Fighters  ",
      "text/html": "<div>\n<style scoped>\n    .dataframe tbody tr th:only-of-type {\n        vertical-align: middle;\n    }\n\n    .dataframe tbody tr th {\n        vertical-align: top;\n    }\n\n    .dataframe thead th {\n        text-align: right;\n    }\n</style>\n<table border=\"1\" class=\"dataframe\">\n  <thead>\n    <tr style=\"text-align: right;\">\n      <th></th>\n      <th>user_id</th>\n      <th>song_id</th>\n      <th>listen_count</th>\n      <th>title</th>\n      <th>release</th>\n      <th>artist_name</th>\n      <th>year</th>\n      <th>song</th>\n    </tr>\n  </thead>\n  <tbody>\n    <tr>\n      <th>0</th>\n      <td>b80344d063b5ccb3212f76538f3d9e43d87dca9e</td>\n      <td>SOAKIMP12A8C130995</td>\n      <td>1</td>\n      <td>The Cove</td>\n      <td>Thicker Than Water</td>\n      <td>Jack Johnson</td>\n      <td>0</td>\n      <td>The Cove - Jack Johnson</td>\n    </tr>\n    <tr>\n      <th>1</th>\n      <td>b80344d063b5ccb3212f76538f3d9e43d87dca9e</td>\n      <td>SOBBMDR12A8C13253B</td>\n      <td>2</td>\n      <td>Entre Dos Aguas</td>\n      <td>Flamenco Para Niños</td>\n      <td>Paco De Lucia</td>\n      <td>1976</td>\n      <td>Entre Dos Aguas - Paco De Lucia</td>\n    </tr>\n    <tr>\n      <th>2</th>\n      <td>b80344d063b5ccb3212f76538f3d9e43d87dca9e</td>\n      <td>SOBXHDL12A81C204C0</td>\n      <td>1</td>\n      <td>Stronger</td>\n      <td>Graduation</td>\n      <td>Kanye West</td>\n      <td>2007</td>\n      <td>Stronger - Kanye West</td>\n    </tr>\n    <tr>\n      <th>3</th>\n      <td>b80344d063b5ccb3212f76538f3d9e43d87dca9e</td>\n      <td>SOBYHAJ12A6701BF1D</td>\n      <td>1</td>\n      <td>Constellations</td>\n      <td>In Between Dreams</td>\n      <td>Jack Johnson</td>\n      <td>2005</td>\n      <td>Constellations - Jack Johnson</td>\n    </tr>\n    <tr>\n      <th>4</th>\n      <td>b80344d063b5ccb3212f76538f3d9e43d87dca9e</td>\n      <td>SODACBL12A8C13C273</td>\n      <td>1</td>\n      <td>Learn To Fly</td>\n      <td>There Is Nothing Left To Lose</td>\n      <td>Foo Fighters</td>\n      <td>1999</td>\n      <td>Learn To Fly - Foo Fighters</td>\n    </tr>\n  </tbody>\n</table>\n</div>"
     },
     "execution_count": 82,
     "metadata": {},
     "output_type": "execute_result"
    }
   ],
   "source": [
    "# creating new feature combining title and artist name\n",
    "df_songs['song'] = df_songs['title']+' - '+df_songs['artist_name']\n",
    "df_songs.head()"
   ],
   "metadata": {
    "collapsed": false
   }
  },
  {
   "cell_type": "markdown",
   "source": [
    "short samples"
   ],
   "metadata": {
    "collapsed": false
   }
  },
  {
   "cell_type": "code",
   "execution_count": 83,
   "outputs": [],
   "source": [
    "# taking top 10k samples for quick results\n",
    "df_songs = df_songs.head(10000)"
   ],
   "metadata": {
    "collapsed": false
   }
  },
  {
   "cell_type": "code",
   "execution_count": 84,
   "outputs": [
    {
     "data": {
      "text/plain": "                                    song  listen_count\n0               #40 - DAVE MATTHEWS BAND             1\n1                    & Down - Boys Noize             4\n2            '97 Bonnie & Clyde - Eminem             2\n3          'Round Midnight - Miles Davis             3\n4  'Till I Collapse - Eminem / Nate Dogg             6",
      "text/html": "<div>\n<style scoped>\n    .dataframe tbody tr th:only-of-type {\n        vertical-align: middle;\n    }\n\n    .dataframe tbody tr th {\n        vertical-align: top;\n    }\n\n    .dataframe thead th {\n        text-align: right;\n    }\n</style>\n<table border=\"1\" class=\"dataframe\">\n  <thead>\n    <tr style=\"text-align: right;\">\n      <th></th>\n      <th>song</th>\n      <th>listen_count</th>\n    </tr>\n  </thead>\n  <tbody>\n    <tr>\n      <th>0</th>\n      <td>#40 - DAVE MATTHEWS BAND</td>\n      <td>1</td>\n    </tr>\n    <tr>\n      <th>1</th>\n      <td>&amp; Down - Boys Noize</td>\n      <td>4</td>\n    </tr>\n    <tr>\n      <th>2</th>\n      <td>'97 Bonnie &amp; Clyde - Eminem</td>\n      <td>2</td>\n    </tr>\n    <tr>\n      <th>3</th>\n      <td>'Round Midnight - Miles Davis</td>\n      <td>3</td>\n    </tr>\n    <tr>\n      <th>4</th>\n      <td>'Till I Collapse - Eminem / Nate Dogg</td>\n      <td>6</td>\n    </tr>\n  </tbody>\n</table>\n</div>"
     },
     "execution_count": 84,
     "metadata": {},
     "output_type": "execute_result"
    }
   ],
   "source": [
    "# cummulative sum of listen count of the songs\n",
    "song_grouped = df_songs.groupby(['song']).agg({'listen_count':'count'}).reset_index()\n",
    "song_grouped.head()"
   ],
   "metadata": {
    "collapsed": false
   }
  },
  {
   "cell_type": "code",
   "execution_count": 85,
   "outputs": [
    {
     "data": {
      "text/plain": "                                                   song  listen_count  \\\n3660                           Sehr kosmisch - Harmonia            45   \n4678                                       Undo - Björk            32   \n5105                     You're The One - Dwight Yoakam            32   \n1071  Dog Days Are Over (Radio Edit) - Florence + Th...            28   \n3655                              Secrets - OneRepublic            28   \n...                                                 ...           ...   \n5139                              high fives - Four Tet             1   \n5140                       in white rooms - Booka Shade             1   \n5143             paranoid android - Christopher O'Riley             1   \n5149            ¿Lo Ves? [Piano Y Voz] - Alejandro Sanz             1   \n5150                              Época - Gotan Project             1   \n\n      percentage  \n3660        0.45  \n4678        0.32  \n5105        0.32  \n1071        0.28  \n3655        0.28  \n...          ...  \n5139        0.01  \n5140        0.01  \n5143        0.01  \n5149        0.01  \n5150        0.01  \n\n[5151 rows x 3 columns]",
      "text/html": "<div>\n<style scoped>\n    .dataframe tbody tr th:only-of-type {\n        vertical-align: middle;\n    }\n\n    .dataframe tbody tr th {\n        vertical-align: top;\n    }\n\n    .dataframe thead th {\n        text-align: right;\n    }\n</style>\n<table border=\"1\" class=\"dataframe\">\n  <thead>\n    <tr style=\"text-align: right;\">\n      <th></th>\n      <th>song</th>\n      <th>listen_count</th>\n      <th>percentage</th>\n    </tr>\n  </thead>\n  <tbody>\n    <tr>\n      <th>3660</th>\n      <td>Sehr kosmisch - Harmonia</td>\n      <td>45</td>\n      <td>0.45</td>\n    </tr>\n    <tr>\n      <th>4678</th>\n      <td>Undo - Björk</td>\n      <td>32</td>\n      <td>0.32</td>\n    </tr>\n    <tr>\n      <th>5105</th>\n      <td>You're The One - Dwight Yoakam</td>\n      <td>32</td>\n      <td>0.32</td>\n    </tr>\n    <tr>\n      <th>1071</th>\n      <td>Dog Days Are Over (Radio Edit) - Florence + Th...</td>\n      <td>28</td>\n      <td>0.28</td>\n    </tr>\n    <tr>\n      <th>3655</th>\n      <td>Secrets - OneRepublic</td>\n      <td>28</td>\n      <td>0.28</td>\n    </tr>\n    <tr>\n      <th>...</th>\n      <td>...</td>\n      <td>...</td>\n      <td>...</td>\n    </tr>\n    <tr>\n      <th>5139</th>\n      <td>high fives - Four Tet</td>\n      <td>1</td>\n      <td>0.01</td>\n    </tr>\n    <tr>\n      <th>5140</th>\n      <td>in white rooms - Booka Shade</td>\n      <td>1</td>\n      <td>0.01</td>\n    </tr>\n    <tr>\n      <th>5143</th>\n      <td>paranoid android - Christopher O'Riley</td>\n      <td>1</td>\n      <td>0.01</td>\n    </tr>\n    <tr>\n      <th>5149</th>\n      <td>¿Lo Ves? [Piano Y Voz] - Alejandro Sanz</td>\n      <td>1</td>\n      <td>0.01</td>\n    </tr>\n    <tr>\n      <th>5150</th>\n      <td>Época - Gotan Project</td>\n      <td>1</td>\n      <td>0.01</td>\n    </tr>\n  </tbody>\n</table>\n<p>5151 rows × 3 columns</p>\n</div>"
     },
     "execution_count": 85,
     "metadata": {},
     "output_type": "execute_result"
    }
   ],
   "source": [
    "grouped_sum = song_grouped['listen_count'].sum()\n",
    "song_grouped['percentage'] = (song_grouped['listen_count'] / grouped_sum ) * 100\n",
    "song_grouped.sort_values(['listen_count', 'song'], ascending=[0,1])"
   ],
   "metadata": {
    "collapsed": false
   }
  },
  {
   "cell_type": "markdown",
   "source": [
    "## Popularity Based Recommendation"
   ],
   "metadata": {
    "collapsed": false
   }
  },
  {
   "cell_type": "code",
   "execution_count": 86,
   "outputs": [],
   "source": [
    "pr = Recommenders.popularity_recommender_py()"
   ],
   "metadata": {
    "collapsed": false
   }
  },
  {
   "cell_type": "code",
   "execution_count": 87,
   "outputs": [],
   "source": [
    "pr.create(df_songs, 'user_id', 'song')"
   ],
   "metadata": {
    "collapsed": false
   }
  },
  {
   "cell_type": "code",
   "execution_count": 88,
   "outputs": [
    {
     "data": {
      "text/plain": "                                       user_id  \\\n3660  b80344d063b5ccb3212f76538f3d9e43d87dca9e   \n4678  b80344d063b5ccb3212f76538f3d9e43d87dca9e   \n5105  b80344d063b5ccb3212f76538f3d9e43d87dca9e   \n1071  b80344d063b5ccb3212f76538f3d9e43d87dca9e   \n3655  b80344d063b5ccb3212f76538f3d9e43d87dca9e   \n4378  b80344d063b5ccb3212f76538f3d9e43d87dca9e   \n4712  b80344d063b5ccb3212f76538f3d9e43d87dca9e   \n3476  b80344d063b5ccb3212f76538f3d9e43d87dca9e   \n1387  b80344d063b5ccb3212f76538f3d9e43d87dca9e   \n1862  b80344d063b5ccb3212f76538f3d9e43d87dca9e   \n\n                                                   song  score  Rank  \n3660                           Sehr kosmisch - Harmonia     45   1.0  \n4678                                       Undo - Björk     32   2.0  \n5105                     You're The One - Dwight Yoakam     32   3.0  \n1071  Dog Days Are Over (Radio Edit) - Florence + Th...     28   4.0  \n3655                              Secrets - OneRepublic     28   5.0  \n4378                           The Scientist - Coldplay     27   6.0  \n4712                       Use Somebody - Kings Of Leon     27   7.0  \n3476                            Revelry - Kings Of Leon     26   8.0  \n1387                     Fireflies - Charttraxx Karaoke     24   9.0  \n1862  Horn Concerto No. 4 in E flat K495: II. Romanc...     23  10.0  ",
      "text/html": "<div>\n<style scoped>\n    .dataframe tbody tr th:only-of-type {\n        vertical-align: middle;\n    }\n\n    .dataframe tbody tr th {\n        vertical-align: top;\n    }\n\n    .dataframe thead th {\n        text-align: right;\n    }\n</style>\n<table border=\"1\" class=\"dataframe\">\n  <thead>\n    <tr style=\"text-align: right;\">\n      <th></th>\n      <th>user_id</th>\n      <th>song</th>\n      <th>score</th>\n      <th>Rank</th>\n    </tr>\n  </thead>\n  <tbody>\n    <tr>\n      <th>3660</th>\n      <td>b80344d063b5ccb3212f76538f3d9e43d87dca9e</td>\n      <td>Sehr kosmisch - Harmonia</td>\n      <td>45</td>\n      <td>1.0</td>\n    </tr>\n    <tr>\n      <th>4678</th>\n      <td>b80344d063b5ccb3212f76538f3d9e43d87dca9e</td>\n      <td>Undo - Björk</td>\n      <td>32</td>\n      <td>2.0</td>\n    </tr>\n    <tr>\n      <th>5105</th>\n      <td>b80344d063b5ccb3212f76538f3d9e43d87dca9e</td>\n      <td>You're The One - Dwight Yoakam</td>\n      <td>32</td>\n      <td>3.0</td>\n    </tr>\n    <tr>\n      <th>1071</th>\n      <td>b80344d063b5ccb3212f76538f3d9e43d87dca9e</td>\n      <td>Dog Days Are Over (Radio Edit) - Florence + Th...</td>\n      <td>28</td>\n      <td>4.0</td>\n    </tr>\n    <tr>\n      <th>3655</th>\n      <td>b80344d063b5ccb3212f76538f3d9e43d87dca9e</td>\n      <td>Secrets - OneRepublic</td>\n      <td>28</td>\n      <td>5.0</td>\n    </tr>\n    <tr>\n      <th>4378</th>\n      <td>b80344d063b5ccb3212f76538f3d9e43d87dca9e</td>\n      <td>The Scientist - Coldplay</td>\n      <td>27</td>\n      <td>6.0</td>\n    </tr>\n    <tr>\n      <th>4712</th>\n      <td>b80344d063b5ccb3212f76538f3d9e43d87dca9e</td>\n      <td>Use Somebody - Kings Of Leon</td>\n      <td>27</td>\n      <td>7.0</td>\n    </tr>\n    <tr>\n      <th>3476</th>\n      <td>b80344d063b5ccb3212f76538f3d9e43d87dca9e</td>\n      <td>Revelry - Kings Of Leon</td>\n      <td>26</td>\n      <td>8.0</td>\n    </tr>\n    <tr>\n      <th>1387</th>\n      <td>b80344d063b5ccb3212f76538f3d9e43d87dca9e</td>\n      <td>Fireflies - Charttraxx Karaoke</td>\n      <td>24</td>\n      <td>9.0</td>\n    </tr>\n    <tr>\n      <th>1862</th>\n      <td>b80344d063b5ccb3212f76538f3d9e43d87dca9e</td>\n      <td>Horn Concerto No. 4 in E flat K495: II. Romanc...</td>\n      <td>23</td>\n      <td>10.0</td>\n    </tr>\n  </tbody>\n</table>\n</div>"
     },
     "execution_count": 88,
     "metadata": {},
     "output_type": "execute_result"
    }
   ],
   "source": [
    "# display the top 10 popular songs\n",
    "pr.recommend(df_songs['user_id'][5])"
   ],
   "metadata": {
    "collapsed": false
   }
  },
  {
   "cell_type": "code",
   "execution_count": 89,
   "outputs": [
    {
     "data": {
      "text/plain": "                                       user_id  \\\n3660  e006b1a48f466bf59feefed32bec6494495a4436   \n4678  e006b1a48f466bf59feefed32bec6494495a4436   \n5105  e006b1a48f466bf59feefed32bec6494495a4436   \n1071  e006b1a48f466bf59feefed32bec6494495a4436   \n3655  e006b1a48f466bf59feefed32bec6494495a4436   \n4378  e006b1a48f466bf59feefed32bec6494495a4436   \n4712  e006b1a48f466bf59feefed32bec6494495a4436   \n3476  e006b1a48f466bf59feefed32bec6494495a4436   \n1387  e006b1a48f466bf59feefed32bec6494495a4436   \n1862  e006b1a48f466bf59feefed32bec6494495a4436   \n\n                                                   song  score  Rank  \n3660                           Sehr kosmisch - Harmonia     45   1.0  \n4678                                       Undo - Björk     32   2.0  \n5105                     You're The One - Dwight Yoakam     32   3.0  \n1071  Dog Days Are Over (Radio Edit) - Florence + Th...     28   4.0  \n3655                              Secrets - OneRepublic     28   5.0  \n4378                           The Scientist - Coldplay     27   6.0  \n4712                       Use Somebody - Kings Of Leon     27   7.0  \n3476                            Revelry - Kings Of Leon     26   8.0  \n1387                     Fireflies - Charttraxx Karaoke     24   9.0  \n1862  Horn Concerto No. 4 in E flat K495: II. Romanc...     23  10.0  ",
      "text/html": "<div>\n<style scoped>\n    .dataframe tbody tr th:only-of-type {\n        vertical-align: middle;\n    }\n\n    .dataframe tbody tr th {\n        vertical-align: top;\n    }\n\n    .dataframe thead th {\n        text-align: right;\n    }\n</style>\n<table border=\"1\" class=\"dataframe\">\n  <thead>\n    <tr style=\"text-align: right;\">\n      <th></th>\n      <th>user_id</th>\n      <th>song</th>\n      <th>score</th>\n      <th>Rank</th>\n    </tr>\n  </thead>\n  <tbody>\n    <tr>\n      <th>3660</th>\n      <td>e006b1a48f466bf59feefed32bec6494495a4436</td>\n      <td>Sehr kosmisch - Harmonia</td>\n      <td>45</td>\n      <td>1.0</td>\n    </tr>\n    <tr>\n      <th>4678</th>\n      <td>e006b1a48f466bf59feefed32bec6494495a4436</td>\n      <td>Undo - Björk</td>\n      <td>32</td>\n      <td>2.0</td>\n    </tr>\n    <tr>\n      <th>5105</th>\n      <td>e006b1a48f466bf59feefed32bec6494495a4436</td>\n      <td>You're The One - Dwight Yoakam</td>\n      <td>32</td>\n      <td>3.0</td>\n    </tr>\n    <tr>\n      <th>1071</th>\n      <td>e006b1a48f466bf59feefed32bec6494495a4436</td>\n      <td>Dog Days Are Over (Radio Edit) - Florence + Th...</td>\n      <td>28</td>\n      <td>4.0</td>\n    </tr>\n    <tr>\n      <th>3655</th>\n      <td>e006b1a48f466bf59feefed32bec6494495a4436</td>\n      <td>Secrets - OneRepublic</td>\n      <td>28</td>\n      <td>5.0</td>\n    </tr>\n    <tr>\n      <th>4378</th>\n      <td>e006b1a48f466bf59feefed32bec6494495a4436</td>\n      <td>The Scientist - Coldplay</td>\n      <td>27</td>\n      <td>6.0</td>\n    </tr>\n    <tr>\n      <th>4712</th>\n      <td>e006b1a48f466bf59feefed32bec6494495a4436</td>\n      <td>Use Somebody - Kings Of Leon</td>\n      <td>27</td>\n      <td>7.0</td>\n    </tr>\n    <tr>\n      <th>3476</th>\n      <td>e006b1a48f466bf59feefed32bec6494495a4436</td>\n      <td>Revelry - Kings Of Leon</td>\n      <td>26</td>\n      <td>8.0</td>\n    </tr>\n    <tr>\n      <th>1387</th>\n      <td>e006b1a48f466bf59feefed32bec6494495a4436</td>\n      <td>Fireflies - Charttraxx Karaoke</td>\n      <td>24</td>\n      <td>9.0</td>\n    </tr>\n    <tr>\n      <th>1862</th>\n      <td>e006b1a48f466bf59feefed32bec6494495a4436</td>\n      <td>Horn Concerto No. 4 in E flat K495: II. Romanc...</td>\n      <td>23</td>\n      <td>10.0</td>\n    </tr>\n  </tbody>\n</table>\n</div>"
     },
     "execution_count": 89,
     "metadata": {},
     "output_type": "execute_result"
    }
   ],
   "source": [
    "pr.recommend(df_songs['user_id'][100])"
   ],
   "metadata": {
    "collapsed": false
   }
  },
  {
   "cell_type": "markdown",
   "source": [
    "## Item based popularity"
   ],
   "metadata": {
    "collapsed": false
   }
  },
  {
   "cell_type": "code",
   "execution_count": 90,
   "outputs": [],
   "source": [
    "ir = Recommenders.item_similarity_recommender_py()\n",
    "ir.create(df_songs, 'user_id', 'song')"
   ],
   "metadata": {
    "collapsed": false
   }
  },
  {
   "cell_type": "code",
   "execution_count": 91,
   "outputs": [],
   "source": [
    "user_items = ir.get_user_items(df_songs['user_id'][5])"
   ],
   "metadata": {
    "collapsed": false
   }
  },
  {
   "cell_type": "code",
   "execution_count": 92,
   "outputs": [
    {
     "name": "stdout",
     "output_type": "stream",
     "text": [
      "The Cove - Jack Johnson\n",
      "Entre Dos Aguas - Paco De Lucia\n",
      "Stronger - Kanye West\n",
      "Constellations - Jack Johnson\n",
      "Learn To Fly - Foo Fighters\n",
      "Apuesta Por El Rock 'N' Roll - Héroes del Silencio\n",
      "Paper Gangsta - Lady GaGa\n",
      "Stacked Actors - Foo Fighters\n",
      "Sehr kosmisch - Harmonia\n",
      "Heaven's gonna burn your eyes - Thievery Corporation feat. Emiliana Torrini\n",
      "Let It Be Sung - Jack Johnson / Matt Costa / Zach Gill / Dan Lebowitz / Steve Adams\n",
      "I'll Be Missing You (Featuring Faith Evans & 112)(Album Version) - Puff Daddy\n",
      "Love Shack - The B-52's\n",
      "Clarity - John Mayer\n",
      "I?'m A Steady Rollin? Man - Robert Johnson\n",
      "The Old Saloon - The Lonely Island\n",
      "Behind The Sea [Live In Chicago] - Panic At The Disco\n",
      "Champion - Kanye West\n",
      "Breakout - Foo Fighters\n",
      "Ragged Wood - Fleet Foxes\n",
      "Mykonos - Fleet Foxes\n",
      "Country Road - Jack Johnson / Paula Fuga\n",
      "Oh No - Andrew Bird\n",
      "Love Song For No One - John Mayer\n",
      "Jewels And Gold - Angus & Julia Stone\n",
      "Warning - Incubus\n",
      "83 - John Mayer\n",
      "Neon - John Mayer\n",
      "The Middle - Jimmy Eat World\n",
      "High and dry - Jorge Drexler\n",
      "All That We Perceive - Thievery Corporation\n",
      "The Christmas Song  (LP Version) - King Curtis\n",
      "Our Swords (Soundtrack Version) - Band Of Horses\n",
      "Are You In? - Incubus\n",
      "Drive - Incubus\n",
      "Generator - Foo Fighters\n",
      "Come Back To Bed - John Mayer\n",
      "He Doesn't Know Why - Fleet Foxes\n",
      "Trani - Kings Of Leon\n",
      "Bigger Isn't Better - The String Cheese Incident\n",
      "Sun Giant - Fleet Foxes\n",
      "City Love - John Mayer\n",
      "Right Back - Sublime\n",
      "Moonshine - Jack Johnson\n",
      "Holes To Heaven - Jack Johnson\n"
     ]
    }
   ],
   "source": [
    "# display user songs history\n",
    "for user_item in user_items:\n",
    "    print(user_item)"
   ],
   "metadata": {
    "collapsed": false
   }
  },
  {
   "cell_type": "code",
   "execution_count": 93,
   "outputs": [
    {
     "name": "stdout",
     "output_type": "stream",
     "text": [
      "No. of unique songs for the user: 45\n",
      "no. of unique songs in the training set: 5151\n",
      "Non zero values in cooccurence_matrix :6844\n"
     ]
    },
    {
     "data": {
      "text/plain": "                                    user_id  \\\n0  b80344d063b5ccb3212f76538f3d9e43d87dca9e   \n1  b80344d063b5ccb3212f76538f3d9e43d87dca9e   \n2  b80344d063b5ccb3212f76538f3d9e43d87dca9e   \n3  b80344d063b5ccb3212f76538f3d9e43d87dca9e   \n4  b80344d063b5ccb3212f76538f3d9e43d87dca9e   \n5  b80344d063b5ccb3212f76538f3d9e43d87dca9e   \n6  b80344d063b5ccb3212f76538f3d9e43d87dca9e   \n7  b80344d063b5ccb3212f76538f3d9e43d87dca9e   \n8  b80344d063b5ccb3212f76538f3d9e43d87dca9e   \n9  b80344d063b5ccb3212f76538f3d9e43d87dca9e   \n\n                                        song     score  rank  \n0                 Oliver James - Fleet Foxes  0.043076     1  \n1                 Quiet Houses - Fleet Foxes  0.043076     2  \n2               Your Protector - Fleet Foxes  0.043076     3  \n3  Tiger Mountain Peasant Song - Fleet Foxes  0.043076     4  \n4                 Sun It Rises - Fleet Foxes  0.043076     5  \n5                        The End - Pearl Jam  0.037531     6  \n6                St. Elsewhere - Dave Grusin  0.037531     7  \n7                       Misled - Céline Dion  0.037531     8  \n8                    Oil And Water - Incubus  0.037531     9  \n9                  Meadowlarks - Fleet Foxes  0.037531    10  ",
      "text/html": "<div>\n<style scoped>\n    .dataframe tbody tr th:only-of-type {\n        vertical-align: middle;\n    }\n\n    .dataframe tbody tr th {\n        vertical-align: top;\n    }\n\n    .dataframe thead th {\n        text-align: right;\n    }\n</style>\n<table border=\"1\" class=\"dataframe\">\n  <thead>\n    <tr style=\"text-align: right;\">\n      <th></th>\n      <th>user_id</th>\n      <th>song</th>\n      <th>score</th>\n      <th>rank</th>\n    </tr>\n  </thead>\n  <tbody>\n    <tr>\n      <th>0</th>\n      <td>b80344d063b5ccb3212f76538f3d9e43d87dca9e</td>\n      <td>Oliver James - Fleet Foxes</td>\n      <td>0.043076</td>\n      <td>1</td>\n    </tr>\n    <tr>\n      <th>1</th>\n      <td>b80344d063b5ccb3212f76538f3d9e43d87dca9e</td>\n      <td>Quiet Houses - Fleet Foxes</td>\n      <td>0.043076</td>\n      <td>2</td>\n    </tr>\n    <tr>\n      <th>2</th>\n      <td>b80344d063b5ccb3212f76538f3d9e43d87dca9e</td>\n      <td>Your Protector - Fleet Foxes</td>\n      <td>0.043076</td>\n      <td>3</td>\n    </tr>\n    <tr>\n      <th>3</th>\n      <td>b80344d063b5ccb3212f76538f3d9e43d87dca9e</td>\n      <td>Tiger Mountain Peasant Song - Fleet Foxes</td>\n      <td>0.043076</td>\n      <td>4</td>\n    </tr>\n    <tr>\n      <th>4</th>\n      <td>b80344d063b5ccb3212f76538f3d9e43d87dca9e</td>\n      <td>Sun It Rises - Fleet Foxes</td>\n      <td>0.043076</td>\n      <td>5</td>\n    </tr>\n    <tr>\n      <th>5</th>\n      <td>b80344d063b5ccb3212f76538f3d9e43d87dca9e</td>\n      <td>The End - Pearl Jam</td>\n      <td>0.037531</td>\n      <td>6</td>\n    </tr>\n    <tr>\n      <th>6</th>\n      <td>b80344d063b5ccb3212f76538f3d9e43d87dca9e</td>\n      <td>St. Elsewhere - Dave Grusin</td>\n      <td>0.037531</td>\n      <td>7</td>\n    </tr>\n    <tr>\n      <th>7</th>\n      <td>b80344d063b5ccb3212f76538f3d9e43d87dca9e</td>\n      <td>Misled - Céline Dion</td>\n      <td>0.037531</td>\n      <td>8</td>\n    </tr>\n    <tr>\n      <th>8</th>\n      <td>b80344d063b5ccb3212f76538f3d9e43d87dca9e</td>\n      <td>Oil And Water - Incubus</td>\n      <td>0.037531</td>\n      <td>9</td>\n    </tr>\n    <tr>\n      <th>9</th>\n      <td>b80344d063b5ccb3212f76538f3d9e43d87dca9e</td>\n      <td>Meadowlarks - Fleet Foxes</td>\n      <td>0.037531</td>\n      <td>10</td>\n    </tr>\n  </tbody>\n</table>\n</div>"
     },
     "execution_count": 93,
     "metadata": {},
     "output_type": "execute_result"
    }
   ],
   "source": [
    "# give song recommendation for that user\n",
    "ir.recommend(df_songs['user_id'][5])"
   ],
   "metadata": {
    "collapsed": false
   }
  },
  {
   "cell_type": "code",
   "execution_count": 94,
   "outputs": [
    {
     "name": "stdout",
     "output_type": "stream",
     "text": [
      "no. of unique songs in the training set: 5151\n",
      "Non zero values in cooccurence_matrix :75\n"
     ]
    },
    {
     "data": {
      "text/plain": "  user_id                                       song  score  rank\n0                         Quiet Houses - Fleet Foxes   0.75     1\n1                        St. Elsewhere - Dave Grusin   0.75     2\n2                               Misled - Céline Dion   0.75     3\n3                       Your Protector - Fleet Foxes   0.75     4\n4                            Oil And Water - Incubus   0.75     5\n5          Tiger Mountain Peasant Song - Fleet Foxes   0.75     6\n6                          Meadowlarks - Fleet Foxes   0.75     7\n7                         Sun It Rises - Fleet Foxes   0.75     8\n8                    I\u0019d Die Without You - P.M. Dawn   0.75     9\n9                              Meet Virginia - Train   0.75    10",
      "text/html": "<div>\n<style scoped>\n    .dataframe tbody tr th:only-of-type {\n        vertical-align: middle;\n    }\n\n    .dataframe tbody tr th {\n        vertical-align: top;\n    }\n\n    .dataframe thead th {\n        text-align: right;\n    }\n</style>\n<table border=\"1\" class=\"dataframe\">\n  <thead>\n    <tr style=\"text-align: right;\">\n      <th></th>\n      <th>user_id</th>\n      <th>song</th>\n      <th>score</th>\n      <th>rank</th>\n    </tr>\n  </thead>\n  <tbody>\n    <tr>\n      <th>0</th>\n      <td></td>\n      <td>Quiet Houses - Fleet Foxes</td>\n      <td>0.75</td>\n      <td>1</td>\n    </tr>\n    <tr>\n      <th>1</th>\n      <td></td>\n      <td>St. Elsewhere - Dave Grusin</td>\n      <td>0.75</td>\n      <td>2</td>\n    </tr>\n    <tr>\n      <th>2</th>\n      <td></td>\n      <td>Misled - Céline Dion</td>\n      <td>0.75</td>\n      <td>3</td>\n    </tr>\n    <tr>\n      <th>3</th>\n      <td></td>\n      <td>Your Protector - Fleet Foxes</td>\n      <td>0.75</td>\n      <td>4</td>\n    </tr>\n    <tr>\n      <th>4</th>\n      <td></td>\n      <td>Oil And Water - Incubus</td>\n      <td>0.75</td>\n      <td>5</td>\n    </tr>\n    <tr>\n      <th>5</th>\n      <td></td>\n      <td>Tiger Mountain Peasant Song - Fleet Foxes</td>\n      <td>0.75</td>\n      <td>6</td>\n    </tr>\n    <tr>\n      <th>6</th>\n      <td></td>\n      <td>Meadowlarks - Fleet Foxes</td>\n      <td>0.75</td>\n      <td>7</td>\n    </tr>\n    <tr>\n      <th>7</th>\n      <td></td>\n      <td>Sun It Rises - Fleet Foxes</td>\n      <td>0.75</td>\n      <td>8</td>\n    </tr>\n    <tr>\n      <th>8</th>\n      <td></td>\n      <td>I\u0019d Die Without You - P.M. Dawn</td>\n      <td>0.75</td>\n      <td>9</td>\n    </tr>\n    <tr>\n      <th>9</th>\n      <td></td>\n      <td>Meet Virginia - Train</td>\n      <td>0.75</td>\n      <td>10</td>\n    </tr>\n  </tbody>\n</table>\n</div>"
     },
     "execution_count": 94,
     "metadata": {},
     "output_type": "execute_result"
    }
   ],
   "source": [
    "# give related songs based on the words\n",
    "ir.get_similar_items(['Oliver James - Fleet Foxes', 'The End - Pearl Jam'])"
   ],
   "metadata": {
    "collapsed": false
   }
  }
 ],
 "metadata": {
  "kernelspec": {
   "display_name": "Python 3",
   "language": "python",
   "name": "python3"
  },
  "language_info": {
   "codemirror_mode": {
    "name": "ipython",
    "version": 3
   },
   "file_extension": ".py",
   "mimetype": "text/x-python",
   "name": "python",
   "nbconvert_exporter": "python",
   "pygments_lexer": "ipython3",
   "version": "3.7.4"
  }
 },
 "nbformat": 4,
 "nbformat_minor": 4
}
